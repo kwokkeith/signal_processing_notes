{
 "cells": [
  {
   "cell_type": "code",
   "execution_count": 1,
   "id": "144179da",
   "metadata": {},
   "outputs": [],
   "source": [
    "import numpy as np\n",
    "import matplotlib.pyplot as plt\n",
    "from ipywidgets import interact, FloatSlider\n",
    "import plotly.graph_objects as go\n",
    "from scipy.signal import spectrogram"
   ]
  },
  {
   "cell_type": "markdown",
   "id": "10d2cdf6",
   "metadata": {},
   "source": [
    "# Chirp Signal"
   ]
  },
  {
   "cell_type": "markdown",
   "id": "6e6d79a9",
   "metadata": {},
   "source": [
    "The chirp signal that we will be using is a quadratic-phase modulated chirp signal has the following form:\n",
    "$$\n",
    "s(t) = sin(2\\pi f_c t + \\pi \\gamma (t-\\frac{T_p}{2})^2)\n",
    "$$\n",
    "where\n",
    "- $f_c$ is the centred frequency of the chirp signal\n",
    "- $t$ is the time variable (independent variable)\n",
    "- $\\gamma$ is the chirp rate $(Hz/s)$ defined as $\\frac{Bandwidth}{Pulse Width}$\n",
    "- $T_p$ is the pulse duration\n",
    "\n",
    "\n",
    "## Chirp Rate\n",
    "How does the chirp rate come about? Below we derive the chirp rate formula:\n",
    "To simplify, we consider a linearly modulated chirp signal. We thus have the instantaneous frequency to be:\n",
    "$$\n",
    "f(t) = f_c + \\gamma (t - \\frac{T_p}{2})\n",
    "$$\n",
    "\n",
    "This means that at $t = 0$: \n",
    "$$\n",
    "f(0) = f_c - \\gamma \\frac{T_p}{2}\n",
    "$$\n",
    "\n",
    "at $t = T_p$:\n",
    "$$\n",
    "f(T_p) = f_c + \\gamma \\frac{T_p}{2}\n",
    "$$\n",
    "\n",
    "and at $t = \\frac{T_p}{2}$:\n",
    "$$\n",
    "f(\\frac{T_p}{2}) = f_c\n",
    "$$\n",
    "The quadratic phase modulation or frequency sweep is centred at $t = \\frac{T_p}{2}$ which is where $f_c$ lies.\n",
    "\n",
    "So the total frequency range (bandwidth) spanned by the chirp is:\n",
    "$$\n",
    "BW = f(T_p) - f(0) = (f_c + \\gamma \\frac{T_p}{2}) - (f_c - \\gamma \\frac{T_p}{2}) = \\gamma T_p\n",
    "$$\n",
    "\n",
    "We thus derive:\n",
    "$$ \n",
    "\\gamma  = \\frac{BW}{T_p}\n",
    "$$\n",
    "\n",
    "Intuitively, this means that\n",
    "- The longer pulse $T_p$, the slower the frequency sweep must be to span a given bandwidth.\n",
    "- The larger the bandwidth, the faster you need to sweep."
   ]
  },
  {
   "cell_type": "code",
   "execution_count": 2,
   "id": "12dd90e3",
   "metadata": {},
   "outputs": [],
   "source": [
    "def plot_spectrogram(signal, fs, title, ax):\n",
    "    \"\"\"\n",
    "    Plot the spectrogram of a signal using matplotlib.\n",
    "\n",
    "    Parameters:\n",
    "    - signal: time-domain signal\n",
    "    - fs: sampling frequency\n",
    "    - title: plot title\n",
    "    - ax: matplotlib axis\n",
    "    \"\"\"\n",
    "    f, t, Sxx = spectrogram(signal, fs=fs, nperseg=256, noverlap=128)\n",
    "    ax.pcolormesh(t * 1e3, f / 1e3, 10 * np.log10(Sxx + 1e-10), shading='gouraud')\n",
    "    ax.set_ylabel('Frequency (kHz)')\n",
    "    ax.set_xlabel('Time (ms)')\n",
    "    ax.set_title(title)\n",
    "    ax.set_ylim(0, fs / 2 / 1e3)"
   ]
  },
  {
   "cell_type": "code",
   "execution_count": 3,
   "id": "70bced06",
   "metadata": {},
   "outputs": [],
   "source": [
    "def compare_chirp_with_all_views(fc=50e3, gamma=1e6, Tp=1e-3, fs=2e6):\n",
    "    \"\"\"\n",
    "    Compare uncentred and centred chirps with:\n",
    "    - Time-domain waveform\n",
    "    - Spectrogram\n",
    "    - Instantaneous frequency\n",
    "    - FFT magnitude (with bandwidth overlay)\n",
    "    \"\"\"\n",
    "    t = np.linspace(0, Tp, int(fs * Tp))\n",
    "    uncentred = np.sin(2 * np.pi * fc * t + np.pi * gamma * t**2)\n",
    "    centred = np.sin(2 * np.pi * fc * t + np.pi * gamma * (t - Tp / 2)**2)\n",
    "\n",
    "    # Instantaneous frequency\n",
    "    inst_freq_uncentred = fc + gamma * t\n",
    "    inst_freq_centred = fc + gamma * (t - Tp / 2)\n",
    "\n",
    "    # FFT helper\n",
    "    def compute_fft(signal):\n",
    "        N = len(signal)\n",
    "        fft_vals = np.fft.fft(signal)\n",
    "        fft_freqs = np.fft.fftfreq(N, d=1/fs)\n",
    "        return fft_freqs[:N//2], np.abs(fft_vals[:N//2])\n",
    "\n",
    "    freq_u, mag_u = compute_fft(uncentred)\n",
    "    freq_c, mag_c = compute_fft(centred)\n",
    "\n",
    "    # Theoretical bandwidth\n",
    "    B = gamma * Tp\n",
    "    f_start = fc - B / 2\n",
    "    f_end = fc + B / 2\n",
    "\n",
    "    fig, axs = plt.subplots(4, 2, figsize=(14, 12))\n",
    "\n",
    "    # Row 1: Time-domain waveform\n",
    "    axs[0, 0].plot(t * 1e3, uncentred)\n",
    "    axs[0, 0].set_title('Uncentred Chirp')\n",
    "    axs[0, 0].set_ylabel('Amplitude')\n",
    "    axs[0, 0].set_xlabel('Time (ms)')\n",
    "\n",
    "    axs[0, 1].plot(t * 1e3, centred)\n",
    "    axs[0, 1].set_title('Centred Chirp')\n",
    "    axs[0, 1].set_ylabel('Amplitude')\n",
    "    axs[0, 1].set_xlabel('Time (ms)')\n",
    "\n",
    "    # Row 2: Spectrogram\n",
    "    plot_spectrogram(uncentred, fs, 'Spectrogram (Uncentred)', axs[1, 0])\n",
    "    plot_spectrogram(centred, fs, 'Spectrogram (Centred)', axs[1, 1])\n",
    "\n",
    "    # Row 3: Instantaneous frequency\n",
    "    axs[2, 0].plot(t * 1e3, inst_freq_uncentred / 1e3, color='red')\n",
    "    axs[2, 0].set_title('Instantaneous Frequency (Uncentred)')\n",
    "    axs[2, 0].set_ylabel('Freq (kHz)')\n",
    "    axs[2, 0].set_xlabel('Time (ms)')\n",
    "\n",
    "    axs[2, 1].plot(t * 1e3, inst_freq_centred / 1e3, color='red')\n",
    "    axs[2, 1].set_title('Instantaneous Frequency (Centred)')\n",
    "    axs[2, 1].set_ylabel('Freq (kHz)')\n",
    "    axs[2, 1].set_xlabel('Time (ms)')\n",
    "\n",
    "    # Row 4: FFT\n",
    "    axs[3, 0].plot(freq_u / 1e3, mag_u, label='Uncentred FFT', linestyle='--')\n",
    "    axs[3, 0].axvline(f_start / 1e3, color='r', linestyle=':', label='BW Start')\n",
    "    axs[3, 0].axvline(f_end / 1e3, color='r', linestyle=':', label='BW End')\n",
    "    axs[3, 0].set_title('FFT Spectrum (Uncentred)')\n",
    "    axs[3, 0].set_xlabel('Freq (kHz)')\n",
    "    axs[3, 0].set_ylabel('Magnitude')\n",
    "    axs[3, 0].legend()\n",
    "\n",
    "    axs[3, 1].plot(freq_c / 1e3, mag_c, label='Centred FFT')\n",
    "    axs[3, 1].axvline(f_start / 1e3, color='r', linestyle=':', label='BW Start')\n",
    "    axs[3, 1].axvline(f_end / 1e3, color='r', linestyle=':', label='BW End')\n",
    "    axs[3, 1].set_title('FFT Spectrum (Centred)')\n",
    "    axs[3, 1].set_xlabel('Freq (kHz)')\n",
    "    axs[3, 1].set_ylabel('Magnitude')\n",
    "    axs[3, 1].legend()\n",
    "\n",
    "    plt.tight_layout()\n",
    "    plt.show()\n",
    "\n"
   ]
  },
  {
   "cell_type": "code",
   "execution_count": null,
   "id": "70ae3050",
   "metadata": {},
   "outputs": [
    {
     "data": {
      "application/vnd.jupyter.widget-view+json": {
       "model_id": "0ae189c1edb64e0bae7fd47b8b931e64",
       "version_major": 2,
       "version_minor": 0
      },
      "text/plain": [
       "interactive(children=(FloatSlider(value=50000.0, description='f_c (Hz)', max=200000.0, min=10000.0, step=10000…"
      ]
     },
     "metadata": {},
     "output_type": "display_data"
    }
   ],
   "source": [
    "interact(compare_chirp_with_all_views,\n",
    "         fc=FloatSlider(min=10e3, max=200e3, step=10e3, value=50e3, description='f_c (Hz)'),\n",
    "         gamma=FloatSlider(min=1e4, max=1e7, step=1e5, value=1e6, description='γ (Hz/s)'),\n",
    "         Tp=FloatSlider(min=0.1e-3, max=5e-3, step=0.1e-3, value=1e-3, description='T_p (s)'),\n",
    "         fs=FloatSlider(min=1e5, max=10e6, step=1e5, value=2e6, description='fs (Hz)')\n",
    "        );"
   ]
  },
  {
   "cell_type": "markdown",
   "id": "f145e231",
   "metadata": {},
   "source": [
    "## Target Simulation 1D\n",
    "Now that we have understand the chirp signal and the importance of its properties, we will now simulate target recognition in 1-Dimension.\n",
    "\n",
    "In this simulation, we will be simulating two targets at a certain distance away from the radar. The radar would emit the quadratic-phase modulated chirp signal:\n",
    "$$\n",
    "s(t) = sin(2\\pi f_c t + \\pi \\gamma (t-\\frac{T_p}{2})^2)\n",
    "$$"
   ]
  },
  {
   "cell_type": "code",
   "execution_count": 5,
   "id": "937d6fec",
   "metadata": {},
   "outputs": [],
   "source": [
    "time_delay = lambda distance: 2 * distance/ 3e8\n",
    "\n",
    "\n",
    "def generate_delayed_signal(tx_signal, fs, t, delay, attenuation=1.0):\n",
    "    delay_samples = int(np.round(delay * fs))\n",
    "    if delay_samples >= len(t):\n",
    "        return np.zeros_like(t)\n",
    "    padded = np.zeros_like(t)\n",
    "    padded[delay_samples:] = tx_signal[:len(t) - delay_samples] * attenuation\n",
    "    return padded\n",
    "\n",
    "\n",
    "def compute_received_signal(tx_signal, fs, t, target1_dist, target2_dist):\n",
    "    # Compute delays\n",
    "    tau1 = time_delay(target1_dist)\n",
    "    tau2 = time_delay(target2_dist)\n",
    "\n",
    "    # Received signal = echo from both targets\n",
    "    rx_signal = generate_delayed_signal(tx_signal, fs, t, tau1) + generate_delayed_signal(tx_signal, fs, t, tau2)\n",
    "    return rx_signal\n",
    "\n",
    "\n",
    "def simulate_two_targets(\n",
    "    target1=50.0, target2=50.0,\n",
    "    fc=50e3, gamma=1e6, Tp=1e-3, fs=2e6\n",
    "):\n",
    "    \"\"\"\n",
    "    Simulates transmitted and received chirp signals for two targets at different distances.\n",
    "\n",
    "    Parameters:\n",
    "    - target1, target2: distances of the two targets in metres\n",
    "    - fc: carrier frequency (Hz)\n",
    "    - gamma: chirp rate (Hz/s)\n",
    "    - Tp: pulse duration (s)\n",
    "    - fs: sampling frequency (Hz)\n",
    "    \"\"\"\n",
    "    t = np.linspace(0, Tp, int(fs * Tp)) # Create evenly spaced sampling based on number of samples\n",
    "    tx_signal = np.sin(2 * np.pi * fc * t + np.pi * gamma * (t - Tp / 2)**2)\n",
    "\n",
    "    rx_signal =  compute_received_signal(tx_signal, fs, t, target1, target2)\n",
    "\n",
    "    # Plot\n",
    "    fig = go.Figure()\n",
    "    fig.add_trace(go.Scatter(x=t*1e3, y=tx_signal, mode='lines', name='Transmitted'))\n",
    "    fig.add_trace(go.Scatter(x=t*1e3, y=rx_signal, mode='lines', name='Received (2 Targets)'))\n",
    "\n",
    "    fig.update_layout(title=(\n",
    "        f'2-Target Simulation | Target1: {target1:.1f} m, Target2: {target2:.1f} m'),\n",
    "        xaxis_title='Time (ms)',\n",
    "        yaxis_title='Amplitude',\n",
    "        legend_title='Signal')\n",
    "    fig.show()\n",
    "\n",
    "\n",
    "    N = len(rx_signal)\n",
    "\n",
    "    # Perform shifted FFT\n",
    "    N = len(rx_signal)\n",
    "    fft_vals = np.fft.fft(rx_signal)\n",
    "    fft_vals_shifted = np.fft.fftshift(fft_vals)\n",
    "\n",
    "    fft_freqs = np.fft.fftfreq(N, d=1/fs) # from -fs/2 to +fs/2\n",
    "    fft_freqs_shifted = np.fft.fftshift(fft_freqs)\n",
    "\n",
    "    # Shift centre frequency to be f_c\n",
    "    freq_axis = fft_freqs_shifted\n",
    "    fft_mag = np.abs(fft_vals_shifted) \n",
    "\n",
    "    # Plot\n",
    "    plt.figure(figsize=(10, 4))\n",
    "    plt.plot(freq_axis / 1e3, fft_mag, color='green')\n",
    "    plt.axvline(fc / 1e3, color='red', linestyle=':', label='Carrier Frequency f_c')\n",
    "    plt.title('FFT of Received Signal (Shifted to f_c)')\n",
    "    plt.xlabel('Frequency (kHz)')\n",
    "    plt.ylabel('Magnitude')\n",
    "    plt.grid(True)\n",
    "    plt.legend()\n",
    "    plt.tight_layout()\n",
    "    plt.show()"
   ]
  },
  {
   "cell_type": "code",
   "execution_count": 6,
   "id": "aded0231",
   "metadata": {},
   "outputs": [
    {
     "data": {
      "application/vnd.jupyter.widget-view+json": {
       "model_id": "1eb4e0a4ce14463e93940af8930f9009",
       "version_major": 2,
       "version_minor": 0
      },
      "text/plain": [
       "interactive(children=(FloatSlider(value=50.0, description='Target 1 (m)', max=50000.0, step=1.0), FloatSlider(…"
      ]
     },
     "metadata": {},
     "output_type": "display_data"
    },
    {
     "data": {
      "text/plain": [
       "<function __main__.simulate_two_targets(target1=50.0, target2=50.0, fc=50000.0, gamma=1000000.0, Tp=0.001, fs=2000000.0)>"
      ]
     },
     "execution_count": 6,
     "metadata": {},
     "output_type": "execute_result"
    }
   ],
   "source": [
    "interact(simulate_two_targets,\n",
    "         target1=FloatSlider(min=0, max=50000, step=1, value=50, description='Target 1 (m)'),\n",
    "         target2=FloatSlider(min=0, max=50000, step=1, value=100, description='Target 2 (m)'),\n",
    "         fc=FloatSlider(min=10e3, max=200e9, step=10e3, value=1e9, description='f_c (Hz)'),\n",
    "         gamma=FloatSlider(min=1e5, max=1e14, step=1e5, value=(1e8*1e5), description='γ (Hz/s)'),\n",
    "         Tp=FloatSlider(min=0.2e-3, max=5e-3, step=0.1e-9, value=1e-6, description='T_p (s)'),\n",
    "         fs=FloatSlider(min=1e5, max=10e12, step=1e5, value=10e9, description='fs (Hz)')\n",
    "        )\n"
   ]
  },
  {
   "cell_type": "markdown",
   "id": "320afc2e",
   "metadata": {},
   "source": [
    "## IQ Demodulation (Complex Mixing)\n",
    "We will now perform IQ Demodulation to shift a bandpass signal centred at $f_c$ down to baseband (centred at 0 Hz). This is done by multiplying the recevied signal with a complex exponential:\n",
    "$$\n",
    "s_{IQ}(t) = s(t) \\cdot e^{-j2\\pi f_ct}\n",
    "$$\n",
    "\n",
    "Recall that a shift in the complex exponential shift in the time domain relates to a frequency shift in the frequency domain by $f_c$"
   ]
  },
  {
   "cell_type": "code",
   "execution_count": 7,
   "id": "7d20df6a",
   "metadata": {},
   "outputs": [],
   "source": [
    "IQ_Demodulation = lambda signal, t, f_c: signal * np.exp(-1j * 2 * np.pi * f_c * t)\n",
    "\n",
    "def simulate_two_targets_with_IQ_demodulation(\n",
    "    target1=50.0, target2=100.0,\n",
    "    fc=50e3, gamma=1e6, Tp=1e-3, fs=2e6\n",
    "):\n",
    "    \"\"\"\n",
    "    Simulates transmitted and received chirp signals for two targets,\n",
    "    applies IQ demodulation, and plots signal and spectrum.\n",
    "\n",
    "    Parameters:\n",
    "    - target1, target2: target distances in metres\n",
    "    - fc: carrier frequency in Hz\n",
    "    - gamma: chirp rate in Hz/s\n",
    "    - Tp: pulse duration in seconds\n",
    "    - fs: sampling frequency\n",
    "    \"\"\"\n",
    "    t = np.linspace(0, Tp, int(fs * Tp))  # Time vector\n",
    "    tx_signal = np.sin(2 * np.pi * fc * t + np.pi * gamma * (t - Tp / 2)**2)\n",
    "    rx_signal = compute_received_signal(tx_signal, fs, t, target1, target2)\n",
    "\n",
    "    # ---- Time-Domain Plot ----\n",
    "    fig = go.Figure()\n",
    "    fig.add_trace(go.Scatter(x=t * 1e3, y=tx_signal, mode='lines', name='Transmitted'))\n",
    "    fig.add_trace(go.Scatter(x=t * 1e3, y=rx_signal, mode='lines', name='Received (2 Targets)'))\n",
    "    fig.update_layout(\n",
    "        title=f'2-Target Simulation | Target1: {target1:.1f} m, Target2: {target2:.1f} m',\n",
    "        xaxis_title='Time (ms)',\n",
    "        yaxis_title='Amplitude',\n",
    "        legend_title='Signal'\n",
    "    )\n",
    "    fig.show()\n",
    "\n",
    "    # ---- IQ Demodulation ----\n",
    "    iq_signal = IQ_Demodulation(rx_signal, t, fc)\n",
    "\n",
    "    # ---- IQ Components Plot ----\n",
    "    plt.figure(figsize=(10, 4))\n",
    "    plt.plot(t * 1e3, np.real(iq_signal), label='In-phase (I)', color='blue')\n",
    "    plt.plot(t * 1e3, np.imag(iq_signal), label='Quadrature (Q)', color='orange', linestyle='dashed')\n",
    "    plt.title(\"IQ Demodulated Signal (Time Domain)\")\n",
    "    plt.xlabel(\"Time (ms)\")\n",
    "    plt.ylabel(\"Amplitude\")\n",
    "    plt.grid(True)\n",
    "    plt.legend()\n",
    "    plt.tight_layout()\n",
    "    plt.show()\n",
    "\n",
    "    # ---- FFT of IQ Signal ----\n",
    "    N = len(iq_signal)\n",
    "    fft_vals = np.fft.fft(iq_signal)\n",
    "    fft_vals_shifted = np.fft.fftshift(fft_vals)\n",
    "    fft_freqs = np.fft.fftfreq(N, d=1 / fs)\n",
    "    fft_freqs_shifted = np.fft.fftshift(fft_freqs)\n",
    "\n",
    "    fft_mag = np.abs(fft_vals_shifted)\n",
    "\n",
    "    plt.figure(figsize=(10, 4))\n",
    "    plt.plot(fft_freqs_shifted / 1e3, fft_mag, color='green')\n",
    "    plt.axvline(0, color='red', linestyle=':', label='Baseband Centre (0 Hz)')\n",
    "    plt.title('FFT of IQ Demodulated Signal (Baseband)')\n",
    "    plt.xlabel('Frequency (kHz)')\n",
    "    plt.ylabel('Magnitude')\n",
    "    plt.grid(True)\n",
    "    plt.legend()\n",
    "    plt.tight_layout()\n",
    "    plt.show()"
   ]
  },
  {
   "cell_type": "code",
   "execution_count": null,
   "id": "2f2853b9",
   "metadata": {},
   "outputs": [
    {
     "data": {
      "application/vnd.jupyter.widget-view+json": {
       "model_id": "5a82f368128c4f23bf20825090a7a183",
       "version_major": 2,
       "version_minor": 0
      },
      "text/plain": [
       "interactive(children=(FloatSlider(value=50.0, description='Target 1 (m)', max=50000.0, step=1.0), FloatSlider(…"
      ]
     },
     "metadata": {},
     "output_type": "display_data"
    },
    {
     "data": {
      "text/plain": [
       "<function __main__.simulate_two_targets_with_IQ_demodulation(target1=50.0, target2=100.0, fc=50000.0, gamma=1000000.0, Tp=0.001, fs=2000000.0)>"
      ]
     },
     "execution_count": 8,
     "metadata": {},
     "output_type": "execute_result"
    }
   ],
   "source": [
    "interact(simulate_two_targets_with_IQ_demodulation,\n",
    "         target1=FloatSlider(min=0, max=50000, step=1, value=50, description='Target 1 (m)'),\n",
    "         target2=FloatSlider(min=0, max=50000, step=1, value=100, description='Target 2 (m)'),\n",
    "         fc=FloatSlider(min=10e3, max=200e3, step=10e3, value=50e3, description='f_c (Hz)'),\n",
    "         gamma=FloatSlider(min=1e5, max=1e7, step=1e5, value=1e6, description='γ (Hz/s)'),\n",
    "         Tp=FloatSlider(min=0.2e-3, max=5e-3, step=0.1e-3, value=1e-3, description='T_p (s)'),\n",
    "         fs=FloatSlider(min=1e5, max=10e6, step=1e5, value=2e6, description='fs (Hz)')\n",
    "        )\n"
   ]
  },
  {
   "cell_type": "markdown",
   "id": "a577717c",
   "metadata": {},
   "source": [
    "## Low-Pass Filter\n",
    "After performing IQ demodulation, your signal is shifted from a high-frequency band (centred around the carrier frequency $f_c$) to baseband, centred at 0 $Hz$.\n",
    "\n",
    "However, this process can also bring along unwanted frequency components, such as:\n",
    "- Residual high-frequency content due to imperfect mixing\n",
    "- Mirror images and artefacts from the real-valued original signal\n",
    "- Aliasing issues when you downsample (decimate) the signal later\n",
    "\n",
    "To clean this up, we apply a low-pass filter to remove unwanted high frequencies and retain only the desired baseband content.\n",
    "\n",
    "We use a **Finite Impulse Response (FIR)** filter designed using the firwin() function in scipy.signal. This method is:\n",
    "- **Linear-phase**: It preserves waveform shape without distorting timing\n",
    "- **Stable**: Always bounded-output for any input\n",
    "- **Precise**: Easy to control bandwidth and cutoff\n",
    "\n",
    "The firwin function would design an FIR filter using the window method as illustrated below.\n",
    "- numtaps: Number of filter coefficients (more taps = sharper filter)\n",
    "- cutoff: The desired cutoff frequency (e.g., half your chirp bandwidth)\n",
    "- fs: Sampling rate (important to define cutoff in Hz)\n",
    "- window: The window function (Hamming is a good general-purpose choice)\n",
    "\n"
   ]
  },
  {
   "cell_type": "code",
   "execution_count": 9,
   "id": "b1b101eb",
   "metadata": {},
   "outputs": [],
   "source": [
    "from scipy.signal import firwin, lfilter, freqz"
   ]
  },
  {
   "cell_type": "code",
   "execution_count": 10,
   "id": "de775902",
   "metadata": {},
   "outputs": [
    {
     "data": {
      "image/png": "[encoded data removed]",
      "text/plain": [
       "<Figure size 1000x400 with 1 Axes>"
      ]
     },
     "metadata": {},
     "output_type": "display_data"
    }
   ],
   "source": [
    "# Parameters\n",
    "fs = 2e6       # Sampling frequency (Hz)\n",
    "cutoff = 0.5e6 # Low-pass cutoff frequency (Hz)\n",
    "numtaps = 101  # Length of the FIR filter\n",
    "window = 'hamming'\n",
    "\n",
    "# Design FIR filter using firwin\n",
    "fir_coeffs = firwin(numtaps, cutoff=cutoff, fs=fs, window=window)\n",
    "\n",
    "# Compute frequency response\n",
    "w, h = freqz(fir_coeffs, worN=8000, fs=fs)\n",
    "\n",
    "# Plot\n",
    "plt.figure(figsize=(10, 4))\n",
    "plt.plot(w / 1e3, 20 * np.log10(np.abs(h)), color='blue')\n",
    "plt.axvline(cutoff / 1e3, color='red', linestyle='--', label=f'Cutoff = {cutoff/1e3:.0f} kHz')\n",
    "plt.title(f'Frequency Response of FIR Low-Pass Filter (firwin, {window} window)')\n",
    "plt.xlabel('Frequency (kHz)')\n",
    "plt.ylabel('Magnitude (dB)')\n",
    "plt.grid(True)\n",
    "plt.legend()\n",
    "plt.tight_layout()\n",
    "plt.show()"
   ]
  },
  {
   "cell_type": "markdown",
   "id": "6d377131",
   "metadata": {},
   "source": [
    "The frequency response shows that:\n",
    "- Frequencies **below the cutoff** pass through _(passband)_\n",
    "- Frequencies **above the cutoff** are attenuated _(stopband)_\n",
    "- The transition band defines how quickly the filter rolls off\n",
    "\n",
    "Now we shall apply this FIR Low-Pass Filter to our received signal."
   ]
  },
  {
   "cell_type": "code",
   "execution_count": 11,
   "id": "fdd3a26a",
   "metadata": {},
   "outputs": [],
   "source": [
    "def simulate_two_targets_with_IQ_demodulation_and_filter(\n",
    "    target1=50.0, target2=100.0,\n",
    "    fc=50e3, gamma=1e6, Tp=1e-3, fs=2e6\n",
    "):\n",
    "    t = np.linspace(0, Tp, int(fs * Tp))\n",
    "    tx_signal = np.sin(2 * np.pi * fc * t + np.pi * gamma * (t - Tp / 2)**2)\n",
    "    rx_signal = compute_received_signal(tx_signal, fs, t, target1, target2)\n",
    "\n",
    "    # Plot Transmitted and Received\n",
    "    fig1 = go.Figure()\n",
    "    fig1.add_trace(go.Scatter(x=t * 1e3, y=tx_signal, mode='lines', name='Transmitted'))\n",
    "    fig1.add_trace(go.Scatter(x=t * 1e3, y=rx_signal, mode='lines', name='Received (2 Targets)'))\n",
    "    fig1.update_layout(\n",
    "        title=f'2-Target Simulation | Target1: {target1:.1f} m, Target2: {target2:.1f} m',\n",
    "        xaxis_title='Time (ms)',\n",
    "        yaxis_title='Amplitude',\n",
    "        legend_title='Signal'\n",
    "    )\n",
    "    fig1.show()\n",
    "\n",
    "    # IQ Demodulation\n",
    "    iq_signal = IQ_Demodulation(rx_signal, t, fc)\n",
    "\n",
    "    # FIR Filter\n",
    "    B = gamma * Tp\n",
    "    cutoff = B / 2\n",
    "    numtaps = 101\n",
    "    fir_coeffs = firwin(numtaps, cutoff=cutoff, fs=fs, window='hamming')\n",
    "    iq_filtered = lfilter(fir_coeffs, 1.0, iq_signal)\n",
    "\n",
    "    # Plot IQ Time-Domain\n",
    "    fig2 = go.Figure()\n",
    "    fig2.add_trace(go.Scatter(x=t * 1e3, y=np.real(iq_filtered), mode='lines', name='In-phase (I)'))\n",
    "    fig2.add_trace(go.Scatter(x=t * 1e3, y=np.imag(iq_filtered), mode='lines', name='Quadrature (Q)', line=dict(dash='dash')))\n",
    "    fig2.update_layout(\n",
    "        title=\"IQ Demodulated & Low-Pass Filtered Signal (Time Domain)\",\n",
    "        xaxis_title=\"Time (ms)\",\n",
    "        yaxis_title=\"Amplitude\",\n",
    "        legend_title=\"Component\"\n",
    "    )\n",
    "    fig2.show()\n",
    "\n",
    "    # FFT Plot\n",
    "    N = len(iq_filtered)\n",
    "    fft_vals = np.fft.fftshift(np.fft.fft(iq_filtered))\n",
    "    fft_freqs = np.fft.fftshift(np.fft.fftfreq(N, d=1 / fs))\n",
    "    fft_mag = np.abs(fft_vals)\n",
    "\n",
    "    fig3 = go.Figure()\n",
    "    fig3.add_trace(go.Scatter(x=fft_freqs / 1e3, y=fft_mag, mode='lines', name='FFT Magnitude'))\n",
    "    fig3.add_trace(go.Scatter(x=[0, 0], y=[0, max(fft_mag)], mode='lines', line=dict(color='red', dash='dot'), name='Baseband Centre (0 Hz)'))\n",
    "    fig3.update_layout(\n",
    "        title='FFT of Filtered IQ Signal (Baseband)',\n",
    "        xaxis_title='Frequency (kHz)',\n",
    "        yaxis_title='Magnitude',\n",
    "        legend_title='Spectrum'\n",
    "    )\n",
    "    fig3.show()\n"
   ]
  },
  {
   "cell_type": "code",
   "execution_count": null,
   "id": "90c5730a",
   "metadata": {},
   "outputs": [
    {
     "data": {
      "application/vnd.jupyter.widget-view+json": {
       "model_id": "c9c4874befce4da4b06a2d9ed3e621b3",
       "version_major": 2,
       "version_minor": 0
      },
      "text/plain": [
       "interactive(children=(FloatSlider(value=50.0, description='Target 1 (m)', max=50000.0, step=1.0), FloatSlider(…"
      ]
     },
     "metadata": {},
     "output_type": "display_data"
    },
    {
     "data": {
      "text/plain": [
       "<function __main__.simulate_two_targets_with_IQ_demodulation_and_filter(target1=50.0, target2=100.0, fc=50000.0, gamma=1000000.0, Tp=0.001, fs=2000000.0)>"
      ]
     },
     "execution_count": 12,
     "metadata": {},
     "output_type": "execute_result"
    }
   ],
   "source": [
    "interact(simulate_two_targets_with_IQ_demodulation_and_filter,\n",
    "         target1=FloatSlider(min=0, max=50000, step=1, value=50, description='Target 1 (m)'),\n",
    "         target2=FloatSlider(min=0, max=50000, step=1, value=100, description='Target 2 (m)'),\n",
    "         fc=FloatSlider(min=10e3, max=200e3, step=10e3, value=50e3, description='f_c (Hz)'),\n",
    "         gamma=FloatSlider(min=1e5, max=1e7, step=1e5, value=1e6, description='γ (Hz/s)'),\n",
    "         Tp=FloatSlider(min=0.2e-3, max=5e-3, step=0.1e-3, value=1e-3, description='T_p (s)'),\n",
    "         fs=FloatSlider(min=1e5, max=10e6, step=1e5, value=2e6, description='fs (Hz)')\n",
    "        )"
   ]
  },
  {
   "cell_type": "markdown",
   "id": "6ae87cdf",
   "metadata": {},
   "source": [
    "## A Quick Note about Modulation and Demodulation\n",
    "Above, we talked about baseband signals, but to fully understand their role in radar and communications, it’s important to understand modulation and demodulation.\n",
    "\n",
    "### Baseband Signals\n",
    "A **baseband signal** is the original, low-frequency signal that carries information — such as your voice, sensor data, or in our case, a chirp waveform. This signal typically ranges from 0 $Hz$ up to some bandwidth $B$ e.g., 500 $kHz$.\n",
    "\n",
    "### Modulation: Lifting Signal to Carrier Frequency (Passband)\n",
    "To transmit the baseband signal efficiently, we use modulation. This involves shifting the signal from baseband up to a higher frequency, called the carrier frequency $f_c$. This is done by multiplying the signal with a sinusoid:\n",
    "$$\n",
    "x_{mod}(t) = x(t) \\cdot cos(2\\pi f_c t)\n",
    "$$\n",
    "or using complex modulatin\n",
    "$$\n",
    "x_{mod}(t) = x(t) \\cdot e^{j2\\pi f_c t}\n",
    "$$\n",
    "In radar systems, this allows the signal to be transmitted at a high frequency (e.g. tens or hundreds of MHz), which supports higher resolution, longer range, and better antenna performance. This is required in radar so that our chirp signals are centred at a high frequency so they can bounce off distant targets and still be detectable.\n",
    "\n",
    "### Demodulation: Bringing Signal Back to Baseband\n",
    "When the reflected signal returns from a target, it is still centred around the carrier frequency $f_c$. To analyse it effectively (e.g., via FFT or matched filtering), we shift it back to baseband. This is done via IQ demodulation:\n",
    "$$\n",
    "x_{IQ}(t) = x_{rx}(t) \\cdot e^{-2j\\pi f_c t}\n",
    "$$\n",
    "This process shifts the spectrum down, centring it around 0 Hz, and produces a complex-valued signal with two parts:\n",
    "- The in-phase (I) component\n",
    "- The quadrature (Q) component\n",
    "\n",
    "This complex representation retains both amplitude and phase information — crucial for radar processing."
   ]
  },
  {
   "cell_type": "markdown",
   "id": "5633c88b",
   "metadata": {},
   "source": [
    "## Matched Filtering (Pulse Compression)\n",
    "Now that we have IQ-demodulated and low-pass filtered our received signal, we are ready to apply **matched filtering**.\n",
    "\n",
    "Matched filtering is a technique used to **maximise** the **signal-to-noise ratio (SNR)** at the receiver by correlating the received signal with a reference (or template) signal that matches the expected shape of the transmitted pulse.\n",
    "\n",
    "This is especially powerful in radar systems using chirp signals, because even though the chirp is long in time (wide pulse), matched filtering compresses it into a short, sharp peak, allowing for precise detection of echo time — hence the term pulse compression.\n",
    "\n",
    "The following is the reference signal based on the chirp signal sent out we can ignore the $2\\pi f_c t$ term as it just centres the sigmoid signal:\n",
    "\n",
    "$$\n",
    "s_{ref}(t) = e^{j\\pi \\gamma (t - \\frac{T_p}{2})^2}\n",
    "$$\n",
    "\n",
    "In matched filtering, we want to find the correlation of the transmitted chirp signal to the received signal. This is done by sliding the transmitted chirp signal across the received signal in the time domain and finding the dot product to obtain the resulting amplitude. \n",
    "\n",
    "Recall, that to perform a correlation matching in the time domain it is the same as a convolution of the reversed signal. Additionally, based on the time-frequency duality, we have that a convolution in the time domain is a multiplication in the frequency domain. Below is a summary of the time-frequency duality for convolution/correlation:\n",
    "\n",
    "| **Operation in Time Domain**                     | **Equivalent in Frequency Domain**         |\n",
    "| ------------------------------------------------ | ------------------------------------------ |\n",
    "| $x(t) * h(t)$ (Convolution)                      | $X(f) \\cdot H(f)$ (Multiplication)         |\n",
    "| $x(t) \\cdot h(t)$ (Multiplication)               | $X(f) * H(f)$ (Convolution)                |\n",
    "| $x(t) \\star h(t) = x(t) * h^*(-t)$ (Correlation) | $X(f) \\cdot H^*(f)$ (Mult. with conjugate) |\n",
    "\n",
    "where $h^*$ is the conjugate term for $h$, it is needed to remove the complex term during correlation matching. \n",
    "\n",
    "To understand the Correlation row equations, we need to recall two properties of Fourier Transform:\n",
    "\n",
    "---\n",
    "## Time Reversal and Fourier Transforms\n",
    "\n",
    "Let’s recall two properties of the Fourier Transform:\n",
    "\n",
    "### 1. **Time reversal**:\n",
    "If:\n",
    "\n",
    "$$\n",
    "h(t) \\xrightarrow{\\mathcal{F}} H(f)\n",
    "$$\n",
    "\n",
    "then:\n",
    "\n",
    "$$\n",
    "h(-t) \\xrightarrow{\\mathcal{F}} H(-f)\n",
    "$$\n",
    "\n",
    "### 2. **Complex conjugation**:\n",
    "\n",
    "If:\n",
    "\n",
    "$$\n",
    "h(t) \\xrightarrow{\\mathcal{F}} H(f)\n",
    "$$\n",
    "\n",
    "then:\n",
    "\n",
    "$$\n",
    "h^*(t) \\xrightarrow{\\mathcal{F}} H^*(-f)\n",
    "$$\n",
    "\n",
    "Now apply **both** time reversal and conjugation:\n",
    "\n",
    "$$\n",
    "h^*(-t) \\xrightarrow{\\mathcal{F}} H^*(f)\n",
    "$$\n",
    "\n",
    "---"
   ]
  },
  {
   "cell_type": "markdown",
   "id": "3097c3fc",
   "metadata": {},
   "source": [
    "Now we are ready to perform matched filtering in the time domain for our chirp signal. That is, we will do a correlation matching in the time domain, which translates to multiplication of the reference signal with its conjugate in the frequency domain."
   ]
  },
  {
   "cell_type": "code",
   "execution_count": 13,
   "id": "11a440b6",
   "metadata": {},
   "outputs": [],
   "source": [
    "from scipy.signal import find_peaks\n",
    "\n",
    "def simulate_two_targets_with_matched_filtering(\n",
    "    target1=50.0, target2=100.0,\n",
    "    fc=50e3, gamma=1e6, Tp=1e-3, fs=2e6\n",
    "):\n",
    "    c = 3e8  # speed of light (m/s)\n",
    "    duration = 4 * Tp  # extend total observation time\n",
    "    t = np.linspace(0, duration, int(fs * duration))\n",
    "\n",
    "    # Zero-padded chirp signal\n",
    "    tx_signal = np.zeros_like(t)\n",
    "    t_chirp = t[:int(fs * Tp)]\n",
    "    chirp = np.sin(2 * np.pi * fc * t_chirp + np.pi * gamma * (t_chirp - Tp / 2) ** 2)\n",
    "    tx_signal[:len(chirp)] = chirp\n",
    "\n",
    "    # Received signal with echoes\n",
    "    rx_signal = compute_received_signal(tx_signal, fs, t, target1, target2)\n",
    "\n",
    "    # Plot transmitted and received\n",
    "    fig1 = go.Figure()\n",
    "    fig1.add_trace(go.Scatter(x=t * 1e3, y=tx_signal, mode='lines', name='Transmitted'))\n",
    "    fig1.add_trace(go.Scatter(x=t * 1e3, y=rx_signal, mode='lines', name='Received (2 Targets)'))\n",
    "    fig1.update_layout(\n",
    "        title=f'2-Target Simulation | Target1: {target1:.1f} m, Target2: {target2:.1f} m',\n",
    "        xaxis_title='Time (ms)', yaxis_title='Amplitude', legend_title='Signal')\n",
    "    fig1.show()\n",
    "\n",
    "    # IQ Demodulation\n",
    "    iq_signal = IQ_Demodulation(rx_signal, t, fc)\n",
    "\n",
    "    # Low-pass FIR filter\n",
    "    B = gamma * Tp  # Chirp bandwidth\n",
    "    cutoff = B / 2\n",
    "    numtaps = 101\n",
    "    fir_coeffs = firwin(numtaps, cutoff=cutoff, fs=fs, window='hamming')\n",
    "    iq_filtered = lfilter(fir_coeffs, 1.0, iq_signal)\n",
    "\n",
    "    # Plot FFT of filtered IQ signal\n",
    "    N = len(iq_filtered)\n",
    "    fft_vals = np.fft.fftshift(np.fft.fft(iq_filtered))\n",
    "    fft_freqs = np.fft.fftshift(np.fft.fftfreq(N, d=1 / fs))\n",
    "    fft_mag = np.abs(fft_vals)\n",
    "\n",
    "    fig3 = go.Figure()\n",
    "    fig3.add_trace(go.Scatter(x=fft_freqs / 1e3, y=fft_mag, mode='lines', name='FFT Magnitude'))\n",
    "    fig3.add_trace(go.Scatter(x=[0, 0], y=[0, max(fft_mag)], mode='lines', line=dict(color='red', dash='dot'),\n",
    "                              name='Baseband Centre (0 Hz)'))\n",
    "    fig3.update_layout(\n",
    "        title='FFT of Filtered IQ Signal (Baseband)',\n",
    "        xaxis_title='Frequency (kHz)', yaxis_title='Magnitude', legend_title='Spectrum')\n",
    "    fig3.show()\n",
    "\n",
    "    # Matched Filtering\n",
    "    ref_chirp = np.exp(1j * np.pi * gamma * (t[:len(chirp)] - Tp / 2) ** 2)\n",
    "    ref_chirp_full = np.zeros_like(t, dtype=complex)\n",
    "    ref_chirp_full[:len(ref_chirp)] = ref_chirp\n",
    "\n",
    "    RX = np.fft.fft(iq_filtered)\n",
    "    REF = np.fft.fft(ref_chirp_full)\n",
    "    matched_filter_output = np.fft.ifft(RX * np.conj(REF))\n",
    "    matched_mag = np.abs(matched_filter_output)\n",
    "\n",
    "    # Find peaks in matched filter output\n",
    "    peaks, _ = find_peaks(matched_mag, height=np.max(matched_mag)*0.2, distance=20)\n",
    "    time_axis = np.linspace(0, duration, len(matched_mag))\n",
    "    distances = (c * time_axis[peaks]) / 2\n",
    "\n",
    "    # Plot matched filter output and annotate distances\n",
    "    # We plot 20 * np.log10(matched_mag) because we want to take the power (decibels)\n",
    "    fig4 = go.Figure()\n",
    "    fig4.add_trace(go.Scatter(x=time_axis * 1e3, y=20 * np.log10(matched_mag), mode='lines', name='Matched Filter Output'))\n",
    "\n",
    "    for i, peak in enumerate(peaks):\n",
    "        fig4.add_trace(go.Scatter(\n",
    "            x=[time_axis[peak] * 1e3],\n",
    "            y=[20 * np.log10(matched_mag[peak])],\n",
    "            mode='markers+text',\n",
    "            text=[f\"{distances[i]:.1f} m\"],\n",
    "            textposition=\"top center\",\n",
    "            marker=dict(color='red', size=8),\n",
    "            name=f\"Target {i+1}\"\n",
    "        ))\n",
    "\n",
    "    fig4.update_layout(\n",
    "        title='Matched Filtering Output with Estimated Distances',\n",
    "        xaxis_title='Time (ms)', yaxis_title='Magnitude', legend_title='Detection Peaks')\n",
    "    fig4.show()"
   ]
  },
  {
   "cell_type": "code",
   "execution_count": 14,
   "id": "83eab19b",
   "metadata": {},
   "outputs": [
    {
     "data": {
      "application/vnd.jupyter.widget-view+json": {
       "model_id": "bbf184f991624432b362ae018802b573",
       "version_major": 2,
       "version_minor": 0
      },
      "text/plain": [
       "interactive(children=(FloatSlider(value=100.0, description='Target 1 (m)', max=50000.0, step=1.0), FloatSlider…"
      ]
     },
     "metadata": {},
     "output_type": "display_data"
    },
    {
     "data": {
      "text/plain": [
       "<function __main__.simulate_two_targets_with_matched_filtering(target1=50.0, target2=100.0, fc=50000.0, gamma=1000000.0, Tp=0.001, fs=2000000.0)>"
      ]
     },
     "execution_count": 14,
     "metadata": {},
     "output_type": "execute_result"
    }
   ],
   "source": [
    "interact(simulate_two_targets_with_matched_filtering,\n",
    "         target1=FloatSlider(min=0, max=50000, step=1, value=100, description='Target 1 (m)'),\n",
    "         target2=FloatSlider(min=0, max=50000, step=1, value=100, description='Target 2 (m)'),\n",
    "         fc=FloatSlider(min=10e3, max=200e9, step=10e3, value=1e6, description='f_c (Hz)'),\n",
    "         gamma=FloatSlider(min=1e5, max=1e14, step=1e5, value=(1e6*1e3), description='γ (Hz/s)'),\n",
    "         Tp=FloatSlider(min=0.2e-3, max=5e-3, step=0.1e-9, value=1e-6, description='T_p (s)'),\n",
    "         fs=FloatSlider(min=1e5, max=10e12, step=1e5, value=10e7, description='fs (Hz)')\n",
    "        )"
   ]
  },
  {
   "cell_type": "markdown",
   "id": "e3593b7a",
   "metadata": {},
   "source": [
    "We plot against power magnitude $20 log_{10}(y)$. This can be derived from $P = \\frac{V^2}{R}$, ignoring $R$ we have $P = V^2$. Taking $10log_{10}$ on both sides, we have $10log_{10}(P) = 20log_{10}(V)$. This is also known as decibels $dB = 20log_{10}(V)$ "
   ]
  },
  {
   "cell_type": "code",
   "execution_count": 15,
   "id": "ef5e8478",
   "metadata": {},
   "outputs": [
    {
     "data": {
      "text/plain": [
       "0.5011872336272722"
      ]
     },
     "execution_count": 15,
     "metadata": {},
     "output_type": "execute_result"
    }
   ],
   "source": [
    "10**(-0.3)"
   ]
  },
  {
   "cell_type": "code",
   "execution_count": 16,
   "id": "ada7a0d8",
   "metadata": {},
   "outputs": [],
   "source": [
    "def simulate_two_targets_with_matched_filtering_without_low_pass(\n",
    "    target1=50.0, target2=100.0,\n",
    "    fc=50e3, gamma=1e6, Tp=1e-3, fs=2e6\n",
    "):\n",
    "    c = 3e8  # speed of light (m/s)\n",
    "    duration = 4 * Tp\n",
    "    t = np.linspace(0, duration, int(fs * duration))\n",
    "\n",
    "    # Zero-padded chirp signal\n",
    "    tx_signal = np.zeros_like(t)\n",
    "    t_chirp = t[:int(fs * Tp)]\n",
    "    chirp = np.sin(2 * np.pi * fc * t_chirp + np.pi * gamma * (t_chirp - Tp / 2) ** 2)\n",
    "    tx_signal[:len(chirp)] = chirp\n",
    "\n",
    "    # Received signal with echoes\n",
    "    rx_signal = compute_received_signal(tx_signal, fs, t, target1, target2)\n",
    "\n",
    "    # Plot transmitted and received\n",
    "    fig1 = go.Figure()\n",
    "    fig1.add_trace(go.Scatter(x=t * 1e3, y=tx_signal, mode='lines', name='Transmitted'))\n",
    "    fig1.add_trace(go.Scatter(x=t * 1e3, y=rx_signal, mode='lines', name='Received (2 Targets)'))\n",
    "    fig1.update_layout(\n",
    "        title=f'2-Target Simulation | Target1: {target1:.1f} m, Target2: {target2:.1f} m',\n",
    "        xaxis_title='Time (ms)', yaxis_title='Amplitude', legend_title='Signal')\n",
    "    fig1.show()\n",
    "\n",
    "    # IQ Demodulation (no filtering)\n",
    "    iq_signal = IQ_Demodulation(rx_signal, t, fc)\n",
    "\n",
    "    # Plot FFT of IQ signal (not filtered)\n",
    "    N = len(iq_signal)\n",
    "    fft_vals = np.fft.fftshift(np.fft.fft(iq_signal))\n",
    "    fft_freqs = np.fft.fftshift(np.fft.fftfreq(N, d=1 / fs))\n",
    "    fft_mag = np.abs(fft_vals)\n",
    "\n",
    "    fig3 = go.Figure()\n",
    "    fig3.add_trace(go.Scatter(x=fft_freqs / 1e3, y=fft_mag, mode='lines', name='FFT Magnitude'))\n",
    "    fig3.add_trace(go.Scatter(x=[0, 0], y=[0, max(fft_mag)], mode='lines', line=dict(color='red', dash='dot'),\n",
    "                              name='Baseband Centre (0 Hz)'))\n",
    "    fig3.update_layout(\n",
    "        title='FFT of IQ Signal (Baseband)',\n",
    "        xaxis_title='Frequency (kHz)', yaxis_title='Magnitude', legend_title='Spectrum')\n",
    "    fig3.show()\n",
    "\n",
    "    # Matched Filtering\n",
    "    ref_chirp = np.exp(1j * np.pi * gamma * (t[:len(chirp)] - Tp / 2) ** 2)\n",
    "    ref_chirp_full = np.zeros_like(t, dtype=complex)\n",
    "    ref_chirp_full[:len(ref_chirp)] = ref_chirp\n",
    "\n",
    "    RX = np.fft.fft(iq_signal)\n",
    "    REF = np.fft.fft(ref_chirp_full)\n",
    "    matched_filter_output = np.fft.ifft(RX * np.conj(REF))\n",
    "    matched_mag = np.abs(matched_filter_output)\n",
    "\n",
    "    # Find peaks\n",
    "    peaks, _ = find_peaks(matched_mag, height=np.max(matched_mag) * 0.2, distance=20)\n",
    "    time_axis = np.linspace(0, duration, len(matched_mag))\n",
    "    distances = (c * time_axis[peaks]) / 2\n",
    "\n",
    "    # Plot matched filter output\n",
    "    fig4 = go.Figure()\n",
    "    fig4.add_trace(go.Scatter(x=time_axis * 1e3, y=20 * np.log10(matched_mag), mode='lines', name='Matched Filter Output'))\n",
    "\n",
    "    for i, peak in enumerate(peaks):\n",
    "        fig4.add_trace(go.Scatter(\n",
    "            x=[time_axis[peak] * 1e3],\n",
    "            y=[20 * np.log10(matched_mag[peak])],\n",
    "            mode='markers+text',\n",
    "            text=[f\"{distances[i]:.1f} m\"],\n",
    "            textposition=\"top center\",\n",
    "            marker=dict(color='red', size=8),\n",
    "            name=f\"Target {i+1}\"\n",
    "        ))\n",
    "\n",
    "    fig4.update_layout(\n",
    "        title='Matched Filtering Output with Estimated Distances',\n",
    "        xaxis_title='Time (ms)', yaxis_title='Magnitude (dB)', legend_title='Detection Peaks')\n",
    "    fig4.show()\n"
   ]
  },
  {
   "cell_type": "code",
   "execution_count": null,
   "id": "fee0d2dd",
   "metadata": {},
   "outputs": [
    {
     "data": {
      "application/vnd.jupyter.widget-view+json": {
       "model_id": "92b2b42e69464e4cae8287df9b9ce189",
       "version_major": 2,
       "version_minor": 0
      },
      "text/plain": [
       "interactive(children=(FloatSlider(value=100.0, description='Target 1 (m)', max=50000.0, step=1.0), FloatSlider…"
      ]
     },
     "metadata": {},
     "output_type": "display_data"
    },
    {
     "data": {
      "text/plain": [
       "<function __main__.simulate_two_targets_with_matched_filtering_without_low_pass(target1=50.0, target2=100.0, fc=50000.0, gamma=1000000.0, Tp=0.001, fs=2000000.0)>"
      ]
     },
     "execution_count": 17,
     "metadata": {},
     "output_type": "execute_result"
    }
   ],
   "source": [
    "interact(simulate_two_targets_with_matched_filtering_without_low_pass,\n",
    "         target1=FloatSlider(min=0, max=50000, step=1, value=100, description='Target 1 (m)'),\n",
    "         target2=FloatSlider(min=0, max=50000, step=1, value=100, description='Target 2 (m)'),\n",
    "         fc=FloatSlider(min=10e3, max=200e9, step=10e3, value=1e6, description='f_c (Hz)'),\n",
    "         gamma=FloatSlider(min=1e5, max=1e14, step=1e5, value=(1e6*1e3), description='γ (Hz/s)'),\n",
    "         Tp=FloatSlider(min=0.2e-3, max=5e-3, step=0.1e-9, value=1e-6, description='T_p (s)'),\n",
    "         fs=FloatSlider(min=1e5, max=10e12, step=1e5, value=50e7, description='fs (Hz)')\n",
    "        )"
   ]
  },
  {
   "cell_type": "code",
   "execution_count": 18,
   "id": "170f9eaa",
   "metadata": {},
   "outputs": [
    {
     "data": {
      "text/plain": [
       "3.0"
      ]
     },
     "execution_count": 18,
     "metadata": {},
     "output_type": "execute_result"
    }
   ],
   "source": [
    "# 3e8 * (1e-6 / 2) * 0.5\n",
    "3e8 / 10e7\n"
   ]
  },
  {
   "cell_type": "markdown",
   "id": "5745d025",
   "metadata": {},
   "source": [
    "Low pass filter is actually not needed if we are doing matched filtering, because when doing the product in the frequency domain the portions whihc we do not care abpoit "
   ]
  },
  {
   "cell_type": "code",
   "execution_count": 19,
   "id": "533ace78",
   "metadata": {},
   "outputs": [],
   "source": [
    "from scipy.signal.windows import taylor\n",
    "from scipy.signal import find_peaks\n",
    "import numpy as np\n",
    "import plotly.graph_objects as go\n",
    "\n",
    "def simulate_two_targets_with_matched_filtering_taylor(\n",
    "    target1=50.0, target2=100.0,\n",
    "    fc=50e3, gamma=1e6, Tp=1e-3, fs=2e6,\n",
    "    nbar=4, sll=-40  # Taylor window parameters\n",
    "):\n",
    "    c = 3e8  # speed of light (m/s)\n",
    "    duration = 4 * Tp\n",
    "    N = int(fs * duration)\n",
    "    t = np.linspace(0, duration, N)\n",
    "\n",
    "    # Zero-padded chirp signal\n",
    "    tx_signal = np.zeros_like(t)\n",
    "    t_chirp = t[:int(fs * Tp)]\n",
    "    chirp = np.sin(2 * np.pi * fc * t_chirp + np.pi * gamma * (t_chirp - Tp / 2) ** 2)\n",
    "    tx_signal[:len(chirp)] = chirp\n",
    "\n",
    "    # Received signal with echoes\n",
    "    rx_signal = compute_received_signal(tx_signal, fs, t, target1, target2)\n",
    "\n",
    "    # Plot transmitted and received\n",
    "    fig1 = go.Figure()\n",
    "    fig1.add_trace(go.Scatter(x=t * 1e3, y=tx_signal, mode='lines', name='Transmitted'))\n",
    "    fig1.add_trace(go.Scatter(x=t * 1e3, y=rx_signal, mode='lines', name='Received (2 Targets)'))\n",
    "    fig1.update_layout(\n",
    "        title=f'2-Target Simulation | Target1: {target1:.1f} m, Target2: {target2:.1f} m',\n",
    "        xaxis_title='Time (ms)', yaxis_title='Amplitude', legend_title='Signal')\n",
    "    fig1.show()\n",
    "\n",
    "    # IQ Demodulation (no filtering)\n",
    "    iq_signal = IQ_Demodulation(rx_signal, t, fc)\n",
    "\n",
    "    # --- Apply Taylor window to IQ signal safely ---\n",
    "    try:\n",
    "        if len(iq_signal) >= 2 * nbar:\n",
    "            taylor_win_full = taylor(len(iq_signal), nbar=nbar, sll=sll, norm=False)\n",
    "            iq_weighted = iq_signal * taylor_win_full\n",
    "        else:\n",
    "            print(f\"Warning: IQ signal length ({len(iq_signal)}) too short for nbar={nbar}\")\n",
    "            iq_weighted = iq_signal\n",
    "    except Exception as e:\n",
    "        print(f\"Taylor window application failed: {e}\")\n",
    "        iq_weighted = iq_signal\n",
    "\n",
    "    # Plot Taylor-weighted IQ signal in dB\n",
    "    iq_weighted_mag_dB = 20 * np.log10(np.abs(iq_weighted))\n",
    "    iq_weighted_mag_dB = np.clip(iq_weighted_mag_dB, a_min=-80, a_max=None)\n",
    "\n",
    "    fig2 = go.Figure()\n",
    "    fig2.add_trace(go.Scatter(x=t * 1e3, y=iq_weighted_mag_dB, mode='lines', name='Taylor-Weighted IQ'))\n",
    "    fig2.update_layout(\n",
    "        title=f'IQ Signal with Taylor Window Applied (nbar={nbar}, sll={sll} dB)',\n",
    "        xaxis_title='Time (ms)', yaxis_title='Magnitude (dB)', legend_title='Windowed Signal')\n",
    "    fig2.show()\n",
    "\n",
    "    # Plot FFT of IQ signal (not filtered)\n",
    "    fft_vals = np.fft.fftshift(np.fft.fft(iq_signal))\n",
    "    fft_freqs = np.fft.fftshift(np.fft.fftfreq(N, d=1 / fs))\n",
    "    fft_mag = np.abs(fft_vals)\n",
    "\n",
    "    fig3 = go.Figure()\n",
    "    fig3.add_trace(go.Scatter(x=fft_freqs / 1e3, y=fft_mag, mode='lines', name='FFT Magnitude'))\n",
    "    fig3.add_trace(go.Scatter(x=[0, 0], y=[0, max(fft_mag)], mode='lines', line=dict(color='red', dash='dot'),\n",
    "                              name='Baseband Centre (0 Hz)'))\n",
    "    fig3.update_layout(\n",
    "        title='FFT of IQ Signal (Baseband)',\n",
    "        xaxis_title='Frequency (kHz)', yaxis_title='Magnitude', legend_title='Spectrum')\n",
    "    fig3.show()\n",
    "\n",
    "    # Matched Filtering with Taylor window on reference chirp\n",
    "    t_ref = t[:len(t_chirp)]\n",
    "    ref_chirp = np.exp(1j * np.pi * gamma * (t_ref - Tp / 2) ** 2)\n",
    "\n",
    "    try:\n",
    "        if len(ref_chirp) >= 2 * nbar:\n",
    "            taylor_win_ref = taylor(len(ref_chirp), nbar=nbar, sll=sll, norm=False)\n",
    "            ref_chirp_weighted = ref_chirp * taylor_win_ref\n",
    "        else:\n",
    "            print(f\"Warning: Ref chirp length too short for nbar={nbar}\")\n",
    "            ref_chirp_weighted = ref_chirp\n",
    "    except Exception as e:\n",
    "        print(f\"Taylor window on ref chirp failed: {e}\")\n",
    "        ref_chirp_weighted = ref_chirp\n",
    "\n",
    "    # Pad to full signal length\n",
    "    ref_chirp_full = np.zeros_like(t, dtype=complex)\n",
    "    ref_chirp_full[:len(ref_chirp_weighted)] = ref_chirp_weighted\n",
    "\n",
    "    RX = np.fft.fft(iq_signal)\n",
    "    REF = np.fft.fft(ref_chirp_full)\n",
    "    matched_filter_output = np.fft.ifft(RX * np.conj(REF))\n",
    "    matched_mag = np.abs(matched_filter_output)\n",
    "\n",
    "    # Find peaks\n",
    "    peaks, _ = find_peaks(matched_mag, height=np.max(matched_mag) * 0.2, distance=20)\n",
    "    time_axis = np.linspace(0, duration, len(matched_mag))\n",
    "    distances = (c * time_axis[peaks]) / 2\n",
    "\n",
    "    # Plot matched filter output\n",
    "    fig4 = go.Figure()\n",
    "    fig4.add_trace(go.Scatter(x=time_axis * 1e3, y=20 * np.log10(matched_mag), mode='lines', name='Matched Filter Output'))\n",
    "\n",
    "    for i, peak in enumerate(peaks):\n",
    "        fig4.add_trace(go.Scatter(\n",
    "            x=[time_axis[peak] * 1e3],\n",
    "            y=[20 * np.log10(matched_mag[peak])],\n",
    "            mode='markers+text',\n",
    "            text=[f\"{distances[i]:.1f} m\"],\n",
    "            textposition=\"top center\",\n",
    "            marker=dict(color='red', size=8),\n",
    "            name=f\"Target {i+1}\"\n",
    "        ))\n",
    "\n",
    "    fig4.update_layout(\n",
    "        title=f'Matched Filtering Output with Taylor Window (nbar={nbar}, sll={sll} dB)',\n",
    "        xaxis_title='Time (ms)', yaxis_title='Magnitude (dB)', legend_title='Detection Peaks')\n",
    "    fig4.show()\n"
   ]
  },
  {
   "cell_type": "code",
   "execution_count": null,
   "id": "28a09bbc",
   "metadata": {},
   "outputs": [
    {
     "data": {
      "application/vnd.jupyter.widget-view+json": {
       "model_id": "188f242e7fb3404da350077d95acf5d2",
       "version_major": 2,
       "version_minor": 0
      },
      "text/plain": [
       "interactive(children=(FloatSlider(value=100.0, description='Target 1 (m)', max=50000.0, step=1.0), FloatSlider…"
      ]
     },
     "metadata": {},
     "output_type": "display_data"
    },
    {
     "data": {
      "text/plain": [
       "<function __main__.simulate_two_targets_with_matched_filtering_taylor(target1=50.0, target2=100.0, fc=50000.0, gamma=1000000.0, Tp=0.001, fs=2000000.0, nbar=4, sll=-40)>"
      ]
     },
     "execution_count": 20,
     "metadata": {},
     "output_type": "execute_result"
    },
    {
     "ename": "",
     "evalue": "",
     "output_type": "error",
     "traceback": [
      "\u001b[1;31mThe Kernel crashed while executing code in the current cell or a previous cell. \n",
      "\u001b[1;31mPlease review the code in the cell(s) to identify a possible cause of the failure. \n",
      "\u001b[1;31mClick <a href='https://aka.ms/vscodeJupyterKernelCrash'>here</a> for more info. \n",
      "\u001b[1;31mView Jupyter <a href='command:jupyter.viewOutput'>log</a> for further details."
     ]
    }
   ],
   "source": [
    "interact(simulate_two_targets_with_matched_filtering_taylor,\n",
    "         target1=FloatSlider(min=0, max=50000, step=1, value=100, description='Target 1 (m)'),\n",
    "         target2=FloatSlider(min=0, max=50000, step=1, value=100, description='Target 2 (m)'),\n",
    "         fc=FloatSlider(min=10e3, max=200e9, step=10e3, value=1e6, description='f_c (Hz)'),\n",
    "         gamma=FloatSlider(min=1e5, max=1e14, step=1e5, value=(1e6*1e3), description='γ (Hz/s)'),\n",
    "         Tp=FloatSlider(min=0.2e-3, max=5e-3, step=0.1e-9, value=1e-6, description='T_p (s)'),\n",
    "         fs=FloatSlider(min=1e5, max=10e12, step=1e5, value=10e7, description='fs (Hz)')\n",
    "        )"
   ]
  },
  {
   "cell_type": "markdown",
   "id": "7deff7dc",
   "metadata": {},
   "source": [
    "Above, the Taylor weighting is used to increase the chance of resolving two distinct targets that are close to each other. Taylor weighting trades off the width of the main lobe with a suppressed side lobe. This reduces the effect of a side lobe covering a main lobe of another weaker target. However, when increasing the main lobe's width, we will inherently increase the resolution which will usually be compensated by increasing the transmitted bandwidth by a coefficient of $0.2$."
   ]
  },
  {
   "cell_type": "markdown",
   "id": "3da69356",
   "metadata": {},
   "source": []
  }
 ],
 "metadata": {
  "kernelspec": {
   "display_name": "Python 3",
   "language": "python",
   "name": "python3"
  },
  "language_info": {
   "codemirror_mode": {
    "name": "ipython",
    "version": 3
   },
   "file_extension": ".py",
   "mimetype": "text/x-python",
   "name": "python",
   "nbconvert_exporter": "python",
   "pygments_lexer": "ipython3",
   "version": "3.10.0"
  }
 },
 "nbformat": 4,
 "nbformat_minor": 5
}
